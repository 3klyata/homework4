{
  "nbformat": 4,
  "nbformat_minor": 0,
  "metadata": {
    "colab": {
      "provenance": [],
      "authorship_tag": "ABX9TyP0boE7+mL1qv0RSWhkG/8P",
      "include_colab_link": true
    },
    "kernelspec": {
      "name": "python3",
      "display_name": "Python 3"
    },
    "language_info": {
      "name": "python"
    }
  },
  "cells": [
    {
      "cell_type": "markdown",
      "metadata": {
        "id": "view-in-github",
        "colab_type": "text"
      },
      "source": [
        "<a href=\"https://colab.research.google.com/github/3klyata/homework4/blob/main/%D0%94%D0%BE%D0%BC%D0%B0%D1%88%D0%BD%D1%94_%D0%97%D0%B0%D0%B2%D0%B4%D0%B0%D0%BD%D0%BD%D1%8F_4_%D0%B4%D0%BE_%D0%BF%D1%80%D0%B0%D0%BA%D1%82%D0%B8%D1%87%D0%BD%D0%BE%D0%B3%D0%BE_5.ipynb\" target=\"_parent\"><img src=\"https://colab.research.google.com/assets/colab-badge.svg\" alt=\"Open In Colab\"/></a>"
      ]
    },
    {
      "cell_type": "code",
      "execution_count": null,
      "metadata": {
        "colab": {
          "base_uri": "https://localhost:8080/"
        },
        "id": "nissnRjD-OAE",
        "outputId": "9e2a9b8d-99bb-458c-92ed-2130e9210e74"
      },
      "outputs": [
        {
          "output_type": "stream",
          "name": "stdout",
          "text": [
            "Таблиці успішно створено.\n"
          ]
        }
      ],
      "source": [
        "import sqlite3\n",
        "# Створюємо таблицю book з колонками назва, ціна, мова, видавництво(id), ISBN, автор(id), жанр (id), дата видання, опис, кількість у наявності\n",
        "# Далі таблиця читача\n",
        "# Створюємо таблицю замовлень\n",
        "# Проміжна таблиця бо зв'язок книг та замовлень багато до багатьох\n",
        "# Таблиця авторів\n",
        "# Проміжна таблиця книг та авторів (зв'язок багато до багатьох)\n",
        "# Таблиця видавництва\n",
        "# Таблиця жанрів\n",
        "# Проміжна таблиця видавництв та книг (зв'язок багато до багатьох)\n",
        "cursor.executescript('''\n",
        "CREATE TABLE IF NOT EXISTS Book (\n",
        "    id INTEGER PRIMARY KEY AUTOINCREMENT,\n",
        "    name TEXT,\n",
        "    price REAL,\n",
        "    language TEXT,\n",
        "    publication_date TEXT,\n",
        "    ISBN TEXT,\n",
        "    author_id INTEGER,\n",
        "    genre_id INTEGER,\n",
        "    publishing_house_id INTEGER,\n",
        "    description TEXT,\n",
        "    quantity_available INTEGER\n",
        ");\n",
        "\n",
        "CREATE TABLE IF NOT EXISTS Reader (\n",
        "    id INTEGER PRIMARY KEY AUTOINCREMENT,\n",
        "    name TEXT,\n",
        "    age INTEGER,\n",
        "    contacts TEXT,\n",
        "    address_of_delivery TEXT\n",
        ");\n",
        "\n",
        "CREATE TABLE IF NOT EXISTS Orders (\n",
        "    id INTEGER PRIMARY KEY AUTOINCREMENT,\n",
        "    order_date TEXT,\n",
        "    order_status TEXT,\n",
        "    reader_id INTEGER,\n",
        "    book_id INTEGER\n",
        ");\n",
        "\n",
        "CREATE TABLE IF NOT EXISTS Order_book (\n",
        "    id INTEGER PRIMARY KEY AUTOINCREMENT,\n",
        "    order_id INTEGER,\n",
        "    book_id INTEGER\n",
        ");\n",
        "\n",
        "CREATE TABLE IF NOT EXISTS Author (\n",
        "    id INTEGER PRIMARY KEY AUTOINCREMENT,\n",
        "    name TEXT,\n",
        "    biography TEXT,\n",
        "    country TEXT\n",
        ");\n",
        "\n",
        "CREATE TABLE IF NOT EXISTS book_author (\n",
        "    id INTEGER PRIMARY KEY AUTOINCREMENT,\n",
        "    author_id INTEGER,\n",
        "    book_id INTEGER\n",
        ");\n",
        "\n",
        "CREATE TABLE IF NOT EXISTS publishing_house (\n",
        "    id INTEGER PRIMARY KEY AUTOINCREMENT,\n",
        "    name TEXT,\n",
        "    contacts TEXT,\n",
        "    country TEXT\n",
        ");\n",
        "\n",
        "CREATE TABLE IF NOT EXISTS genre (\n",
        "    id INTEGER PRIMARY KEY AUTOINCREMENT,\n",
        "    name TEXT,\n",
        "    description TEXT\n",
        ");\n",
        "\n",
        "CREATE TABLE IF NOT EXISTS Book_publishing_house (\n",
        "    id INTEGER PRIMARY KEY AUTOINCREMENT,\n",
        "    publishing_house_id INTEGER,\n",
        "    book_id INTEGER\n",
        ");\n",
        "''')\n",
        "conn.commit()\n",
        "print(\"Таблиці успішно створено.\")"
      ]
    },
    {
      "cell_type": "code",
      "source": [
        "# Наповнення таблиць даними\n",
        "cursor.executescript('''\n",
        "INSERT INTO Author (name, biography, country) VALUES\n",
        "    ('Тарас Шевченко', 'Український поет і художник', 'Україна'),\n",
        "    ('Ліна Костенко', 'Українська поетеса', 'Україна');\n",
        "\n",
        "INSERT INTO Genre (name, description) VALUES\n",
        "    ('Поезія', 'Літературний жанр'),\n",
        "    ('Роман', 'Художній жанр');\n",
        "\n",
        "INSERT INTO publishing_house (name, contacts, country) VALUES\n",
        "    ('Видавництво Старого Лева', 'contacts@starlev.com', 'Україна'),\n",
        "    ('А-ба-ба-га-ла-ма-га', 'info@ababahalamaha.com', 'Україна');\n",
        "\n",
        "INSERT INTO Book (name, price, language, publication_date, ISBN, author_id, genre_id, publishing_house_id, description, quantity_available) VALUES\n",
        "    ('Кобзар', 200.50, 'Українська', '1840-03-01', '1234567890', 1, 1, 1, 'Збірка поезій Тараса Шевченка', 15),\n",
        "    ('Записки українського самашедшого', 150.00, 'Українська', '2010-09-01', '0987654321', 2, 2, 2, 'Роман Ліни Костенко', 20);\n",
        "\n",
        "INSERT INTO Reader (name, age, contacts, address_of_delivery) VALUES\n",
        "    ('Іван Іваненко', 30, '+380671234567', 'Київ, вул. Шевченка, 10'),\n",
        "    ('Марія Петренко', 25, '+380681234567', 'Львів, вул. Франка, 5');\n",
        "\n",
        "INSERT INTO Orders (order_date, order_status, reader_id, book_id) VALUES\n",
        "    ('2024-11-01', 'completed', 1, 1),\n",
        "    ('2024-11-05', 'pending', 2, 2);\n",
        "''')\n",
        "\n",
        "conn.commit()\n",
        "print(\"Дані успішно додано.\")"
      ],
      "metadata": {
        "colab": {
          "base_uri": "https://localhost:8080/"
        },
        "id": "CvgvUkwmWFpX",
        "outputId": "26aee855-c79a-40d7-a2ac-82b1a71762fb"
      },
      "execution_count": null,
      "outputs": [
        {
          "output_type": "stream",
          "name": "stdout",
          "text": [
            "Дані успішно додано.\n"
          ]
        }
      ]
    },
    {
      "cell_type": "code",
      "source": [
        "# SELECT-запити\n",
        "query1 = '''\n",
        "SELECT Book.name, Author.name\n",
        "FROM Book\n",
        "INNER JOIN Author ON Book.author_id = Author.id;\n",
        "'''\n",
        "\n",
        "query2 = '''\n",
        "SELECT Orders.id, Reader.name, Book.name\n",
        "FROM `Orders`\n",
        "INNER JOIN Reader ON Orders.reader_id = Reader.id\n",
        "INNER JOIN Book ON Orders.book_id = Book.id;\n",
        "'''\n",
        "\n",
        "# Виконання запитів\n",
        "cursor.execute(query1)\n",
        "result1 = cursor.fetchall()\n",
        "print(\"Запит 1: Книги та їх автори:\")\n",
        "for row in result1:\n",
        "    print(row)\n",
        "\n",
        "cursor.execute(query2)\n",
        "result2 = cursor.fetchall()\n",
        "print(\"Запит 2: Замовлення, читачі та книги:\")\n",
        "for row in result2:\n",
        "    print(row)"
      ],
      "metadata": {
        "colab": {
          "base_uri": "https://localhost:8080/"
        },
        "id": "cK00h-wzXZsh",
        "outputId": "8cbba7c9-ee1e-4d8d-f164-978b091a6dbb"
      },
      "execution_count": null,
      "outputs": [
        {
          "output_type": "stream",
          "name": "stdout",
          "text": [
            "Запит 1: Книги та їх автори:\n",
            "('Кобзар', 'Тарас Шевченко')\n",
            "('Записки українського самашедшого', 'Ліна Костенко')\n",
            "Запит 2: Замовлення, читачі та книги:\n",
            "(1, 'Іван Іваненко', 'Кобзар')\n",
            "(2, 'Марія Петренко', 'Записки українського самашедшого')\n"
          ]
        }
      ]
    },
    {
      "cell_type": "code",
      "source": [
        "# Змінюємо назву книги \"Кобзар\"\n",
        "update_query = '''\n",
        "UPDATE Book\n",
        "SET name = \"Сон\"\n",
        "WHERE id = 1;\n",
        "'''\n",
        "# Зберігаємо зміни\n",
        "cursor.execute(update_query)\n",
        "conn.commit()\n",
        "print(\"Назва книги змінена\")\n",
        "\n",
        "# Повторне виконання SELECT-запитів\n",
        "cursor.execute(query1)\n",
        "updated_result1 = cursor.fetchall()\n",
        "print(\"Оновлений запит 1: Книги та їх автори:\")\n",
        "for row in updated_result1:\n",
        "    print(row)\n",
        "\n",
        "cursor.execute(query2)\n",
        "updated_result2 = cursor.fetchall()\n",
        "print(\"Оновлений запит 2: Замовлення, читачі та книги:\")\n",
        "for row in updated_result2:\n",
        "    print(row)"
      ],
      "metadata": {
        "colab": {
          "base_uri": "https://localhost:8080/"
        },
        "id": "E1NRMRhoXyhv",
        "outputId": "c3bfd108-472d-49e0-87d4-55ef01305741"
      },
      "execution_count": null,
      "outputs": [
        {
          "output_type": "stream",
          "name": "stdout",
          "text": [
            "Назва книги змінена\n",
            "Оновлений запит 1: Книги та їх автори:\n",
            "('Сон', 'Тарас Шевченко')\n",
            "('Записки українського самашедшого', 'Ліна Костенко')\n",
            "Оновлений запит 2: Замовлення, читачі та книги:\n",
            "(1, 'Іван Іваненко', 'Сон')\n",
            "(2, 'Марія Петренко', 'Записки українського самашедшого')\n"
          ]
        }
      ]
    }
  ]
}